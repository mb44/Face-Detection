{
 "cells": [
  {
   "cell_type": "markdown",
   "metadata": {},
   "source": [
    "# Face detection with Tkinter"
   ]
  },
  {
   "cell_type": "code",
   "execution_count": 1,
   "metadata": {
    "collapsed": true
   },
   "outputs": [],
   "source": [
    "from tkinter import *\n",
    "from tkinter import filedialog\n",
    "import cv2\n",
    "from PIL import Image, ImageTk\n",
    "\n",
    "face_cascade = cv2.CascadeClassifier(\"haarcascade_frontalface_default.xml\")\n",
    "\n",
    "filename = None\n",
    "\n",
    "# Callback function for \"Detect faces\" button\n",
    "def detect_faces():\n",
    "    img = cv2.imread(filename, 1)\n",
    "    gray_img = cv2.cvtColor(img, cv2.COLOR_BGR2GRAY)\n",
    "    faces = face_cascade.detectMultiScale(gray_img, scaleFactor=float(e1_value.get()), minNeighbors=int(e2_value.get()))\n",
    "    for x,y,w, h in faces:\n",
    "        img=cv2.rectangle(img,(x,y),(x+w, y+h), (0,255,0))\n",
    "        \n",
    "    img2 = cv2.cvtColor(img, cv2.COLOR_BGR2RGB)\n",
    "    im_pil = Image.fromarray(img2)\n",
    "        \n",
    "    facedetected = ImageTk.PhotoImage(im_pil)\n",
    "    label.image = facedetected\n",
    "    label.configure(image=facedetected)\n",
    "\n",
    "# Callback function for \"Open file\" menu bar item\n",
    "def openimage():\n",
    "    global filename\n",
    "    filename = filedialog.askopenfilename(parent=window)\n",
    "    image = Image.open(filename)\n",
    "    photo = ImageTk.PhotoImage(image)\n",
    "    label.image = photo\n",
    "    label.configure(image=photo)\n",
    "    e1_value.set(\"1.05\")\n",
    "    e2_value.set(\"5\")\n",
    "    \n",
    "# GRAPHICAL USER INTERFACE\n",
    "window = Tk()\n",
    "window.wm_title(\"Face detection\")\n",
    "window.geometry(\"800x800\")\n",
    "# Create menu\n",
    "menubar = Menu(window)\n",
    "# Create file menu item\n",
    "openmenu = Menu(menubar, tearoff=0)\n",
    "openmenu.add_command(label=\"Open image\", command=openimage)\n",
    "# Create File menu\n",
    "menubar.add_cascade(label=\"File\", menu=openmenu)\n",
    "# set Window menubar\n",
    "window.config(menu=menubar)\n",
    "\n",
    "# Row 0: Scale factor\n",
    "label1 = Label(text=\"Scale factor:\")\n",
    "label1.grid(row=0,column=0, sticky=E)\n",
    "\n",
    "e1_value=StringVar()\n",
    "e1 = Entry(window, textvariable=e1_value)\n",
    "e1.grid(row=0,column=1, sticky=W)\n",
    "\n",
    "# Row 1: Min neighbors\n",
    "label2 = Label(text=\"Minimum neighbors:\")\n",
    "label2.grid(row=1,column=0, sticky=E)\n",
    "\n",
    "e2_value=StringVar()\n",
    "e2 = Entry(window, textvariable=e2_value)\n",
    "e2.grid(row=1,column=1, sticky=W)\n",
    "\n",
    "# Row 2: Button\n",
    "button = Button(window,text=\"Detect faces\", command=detect_faces)\n",
    "button.grid(row=2, column=0, columnspan=2, sticky=\"\", pady=5)\n",
    "\n",
    "# Row 3: Label with image\n",
    "label = Label(width=800,height=600)\n",
    "label.image = None # keep a reference!\n",
    "label.configure(image= None)\n",
    "label.grid(row=3,column=0, columnspan=2, stick=\"\", pady=5)\n",
    "\n",
    "window.mainloop()"
   ]
  },
  {
   "cell_type": "code",
   "execution_count": null,
   "metadata": {
    "collapsed": true
   },
   "outputs": [],
   "source": []
  }
 ],
 "metadata": {
  "kernelspec": {
   "display_name": "Python 3",
   "language": "python",
   "name": "python3"
  },
  "language_info": {
   "codemirror_mode": {
    "name": "ipython",
    "version": 3
   },
   "file_extension": ".py",
   "mimetype": "text/x-python",
   "name": "python",
   "nbconvert_exporter": "python",
   "pygments_lexer": "ipython3",
   "version": "3.6.1"
  }
 },
 "nbformat": 4,
 "nbformat_minor": 2
}
